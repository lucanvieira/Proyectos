{
 "cells": [
  {
   "cell_type": "code",
   "execution_count": null,
   "id": "1f38f729",
   "metadata": {},
   "outputs": [],
   "source": [
    "import pandas as pd\n",
    "\n",
    "df_2005sucio = pd.read_csv('*.csv', delimiter=';', encoding='latin1')\n",
    "df_2006 = pd.read_csv('*', delimiter=';', encoding='latin1')\n",
    "df_2007 = pd.read_csv('*', delimiter=';', encoding='latin1')\n",
    "df_2008 = pd.read_csv('*', delimiter=';', encoding='latin1')\n",
    "df_2009 = pd.read_csv('*', delimiter=';', encoding='latin1')\n",
    "df_2010 = pd.read_csv('*', delimiter=';', encoding='latin1')\n",
    "df_2011 = pd.read_csv('*', delimiter=';', encoding='latin1')\n",
    "df_2012 = pd.read_csv('*', delimiter=';', encoding='latin1')\n",
    "df_2013 = pd.read_csv('*', delimiter=';', encoding='latin1')\n",
    "df_2014 = pd.read_csv('*', delimiter=';', encoding='latin1')\n",
    "df_2015 = pd.read_csv('*', delimiter=';', encoding='latin1')\n",
    "df_2016 = pd.read_csv('*', delimiter=';', encoding='latin1')\n",
    "df_2017 = pd.read_csv('*', delimiter=';')\n",
    "df_2018 = pd.read_csv('*', delimiter=';')\n",
    "df_2019 = pd.read_csv('*', delimiter=';')\n",
    "df_2020sucio = pd.read_csv(r'*', encoding='ISO-8859-1', delimiter=';')\n",
    "\n"
   ]
  },
  {
   "cell_type": "code",
   "execution_count": 2,
   "id": "885b2d0a",
   "metadata": {},
   "outputs": [],
   "source": [
    "df_2005 = df_2005sucio.dropna()\n",
    "df_2020sucio2 = df_2020sucio.rename(columns={\n",
    "    'CPF_BENEFICIARIO': 'CPF_BENEFICIARIO_BOLSA',\n",
    "    'RACA_BENEFICIARIO': 'RACA_BENEFICIARIO_BOLSA',\n",
    "    'SEXO_BENEFICIARIO': 'SEXO_BENEFICIARIO_BOLSA',\n",
    "    'DATA_NASCIMENTO': 'DT_NASCIMENTO_BENEFICIARIO',\n",
    "    'REGIAO_BENEFICIARIO': 'REGIAO_BENEFICIARIO_BOLSA',\n",
    "    'MUNICIPIO_BENEFICIARIO': 'MUNICIPIO_BENEFICIARIO_BOLSA',\n",
    "    'UF_BENEFICIARIO': 'SIGLA_UF_BENEFICIARIO_BOLSA',\n",
    "    })\n",
    "df_2020 = df_2020sucio2.drop(columns=['MUNICIPIO', 'CAMPUS'])\n",
    "\n"
   ]
  },
  {
   "cell_type": "code",
   "execution_count": 3,
   "id": "6525e4d5",
   "metadata": {},
   "outputs": [
    {
     "name": "stderr",
     "output_type": "stream",
     "text": [
      "C:\\Users\\Lucan Vieira\\AppData\\Local\\Temp\\ipykernel_5376\\97993319.py:26: UserWarning: Parsing dates in %d/%m/%Y format when dayfirst=False (the default) was specified. Pass `dayfirst=True` or specify a format to silence this warning.\n",
      "  df_totalsucio2['DT_NASCIMENTO_BENEFICIARIO'] = pd.to_datetime(df_totalsucio2['DT_NASCIMENTO_BENEFICIARIO'], errors='coerce')\n"
     ]
    }
   ],
   "source": [
    "# Concatenar os DataFrames de 2005 a 2020\n",
    "df_total_sucio = pd.concat([\n",
    "    df_2005, df_2006, df_2007, df_2008, df_2009,\n",
    "    df_2010, df_2011, df_2012, df_2013, df_2014,\n",
    "    df_2015, df_2016, df_2017, df_2018, df_2019, df_2020\n",
    "], ignore_index=True)\n",
    "\n",
    "# Remover linhas com valores ausentes nas colunas essenciais e criar uma cópia segura\n",
    "df_totalsucio2 = df_total_sucio.dropna(subset=[\n",
    "    'ANO_CONCESSAO_BOLSA', 'CODIGO_EMEC_IES_BOLSA'\n",
    "]).copy()\n",
    "\n",
    "# Substituir valores na coluna de sexo\n",
    "df_totalsucio2.loc[:, 'SEXO_BENEFICIARIO_BOLSA'] = df_totalsucio2['SEXO_BENEFICIARIO_BOLSA'].replace({\n",
    "    'Feminino': 'F', \n",
    "    'Masculino': 'M'\n",
    "})\n",
    "\n",
    "# Substituir valores na coluna de deficiência\n",
    "df_totalsucio2.loc[:, 'BENEFICIARIO_DEFICIENTE_FISICO'] = df_totalsucio2['BENEFICIARIO_DEFICIENTE_FISICO'].replace({\n",
    "    'SIM': 'S', \n",
    "    'NÃO': 'N'\n",
    "})\n",
    "df_totalsucio2['DT_NASCIMENTO_BENEFICIARIO'] = df_totalsucio2['DT_NASCIMENTO_BENEFICIARIO'].str.replace('-', '/')\n",
    "# Converter a coluna para datetime, se ainda não for\n",
    "df_totalsucio2['DT_NASCIMENTO_BENEFICIARIO'] = pd.to_datetime(df_totalsucio2['DT_NASCIMENTO_BENEFICIARIO'], errors='coerce')\n",
    "# Formatando para o estilo desejado, por exemplo: 'dd/mm/yyyy'\n",
    "df_totalsucio2['DT_NASCIMENTO_BENEFICIARIO'] = df_totalsucio2['DT_NASCIMENTO_BENEFICIARIO'].dt.strftime('%d/%m/%Y')\n",
    "df_total = df_totalsucio2.dropna()\n",
    "\n"
   ]
  },
  {
   "cell_type": "code",
   "execution_count": 4,
   "id": "a5379fb4",
   "metadata": {},
   "outputs": [],
   "source": [
    "# Para a tabela de localidades\n",
    "dim_localidade = df_total[['REGIAO_BENEFICIARIO_BOLSA', 'SIGLA_UF_BENEFICIARIO_BOLSA', 'MUNICIPIO_BENEFICIARIO_BOLSA']].dropna().drop_duplicates()\n",
    "\n",
    "# Para a tabela de instituições\n",
    "dim_instituicao = df_total[['CODIGO_EMEC_IES_BOLSA', 'NOME_IES_BOLSA']].dropna().drop_duplicates()\n",
    "\n",
    "# Para a tabela de cursos\n",
    "dim_curso = df_total[['NOME_CURSO_BOLSA', 'MODALIDADE_ENSINO_BOLSA', 'NOME_TURNO_CURSO_BOLSA']].dropna().drop_duplicates()\n",
    "\n",
    "# Para a tabela de beneficiários\n",
    "dim_beneficiario = df_total[['CPF_BENEFICIARIO_BOLSA', 'SEXO_BENEFICIARIO_BOLSA', \n",
    "                             'RACA_BENEFICIARIO_BOLSA', 'DT_NASCIMENTO_BENEFICIARIO', \n",
    "                             'BENEFICIARIO_DEFICIENTE_FISICO']].dropna().drop_duplicates()\n",
    "\n"
   ]
  },
  {
   "cell_type": "code",
   "execution_count": 5,
   "id": "55fc5f12",
   "metadata": {},
   "outputs": [],
   "source": [
    "\n",
    "# Criar IDs únicos\n",
    "dim_instituicao['instituicao_id'] = (dim_instituicao.reset_index().index + 1).astype(int)\n",
    "dim_curso['curso_id'] = (dim_curso.reset_index().index + 1).astype(int)\n",
    "dim_beneficiario['beneficiario_id'] = (dim_beneficiario.reset_index().index + 1).astype(int)\n",
    "dim_localidade['localidade_id'] = (dim_localidade.reset_index().index + 1).astype(int)\n"
   ]
  },
  {
   "cell_type": "code",
   "execution_count": 6,
   "id": "70dabefe",
   "metadata": {},
   "outputs": [],
   "source": [
    "import hashlib\n",
    "\n",
    "# Merge com o DataFrame total para construir a tabela fato\n",
    "df_fato = df_total \\\n",
    "    .merge(dim_instituicao, on=['CODIGO_EMEC_IES_BOLSA', 'NOME_IES_BOLSA'], how='left') \\\n",
    "    .merge(dim_curso, on=['NOME_CURSO_BOLSA', 'MODALIDADE_ENSINO_BOLSA', 'NOME_TURNO_CURSO_BOLSA'], how='left') \\\n",
    "    .merge(dim_beneficiario, on=[ \n",
    "        'CPF_BENEFICIARIO_BOLSA', 'SEXO_BENEFICIARIO_BOLSA', \n",
    "        'RACA_BENEFICIARIO_BOLSA', 'DT_NASCIMENTO_BENEFICIARIO', \n",
    "        'BENEFICIARIO_DEFICIENTE_FISICO'], how='left') \\\n",
    "    .merge(dim_localidade, on=['REGIAO_BENEFICIARIO_BOLSA', 'SIGLA_UF_BENEFICIARIO_BOLSA', 'MUNICIPIO_BENEFICIARIO_BOLSA'], how='left')\n",
    "\n",
    "# Após o merge, substitua NaN por um valor padrão (como 0 ou outro valor adequado)\n",
    "# Alterar as colunas para o tipo Int64, que permite valores nulos (NaN)\n",
    "df_fato['instituicao_id'] = df_fato['instituicao_id'].astype('Int64')\n",
    "df_fato['curso_id'] = df_fato['curso_id'].astype('Int64')\n",
    "df_fato['beneficiario_id'] = df_fato['beneficiario_id'].astype('Int64')\n",
    "df_fato['localidade_id'] = df_fato['localidade_id'].astype('Int64')\n",
    "\n",
    "# Verificar valores nulos na coluna 'instituicao_id'\n",
    "df_fato[df_fato['instituicao_id'].isna()]\n",
    "\n",
    "# Se o ANO_CONCESSAO_BOLSA tiver valores float, converta para inteiro também\n",
    "df_fato['ANO_CONCESSAO_BOLSA'] = df_fato['ANO_CONCESSAO_BOLSA'].fillna(0).astype(int)\n",
    "\n",
    "\n",
    "# Criar a tabela fato a partir das colunas selecionadas\n",
    "fato_bolsa = df_fato[['ANO_CONCESSAO_BOLSA', 'instituicao_id', 'curso_id', 'beneficiario_id', 'localidade_id', 'TIPO_BOLSA']]\n",
    "fato_bolsa = fato_bolsa.reset_index(drop=True)\n",
    "\n",
    "# Função para gerar um hash único baseado nos campos\n",
    "def gerar_chave_composta(row):\n",
    "    chave_str = f\"{row['ANO_CONCESSAO_BOLSA']}_{row['instituicao_id']}_{row['curso_id']}_{row['beneficiario_id']}_{row['localidade_id']}_{row['TIPO_BOLSA']}\"\n",
    "    return hashlib.sha256(chave_str.encode('utf-8')).hexdigest()\n",
    "\n",
    "# Aplicar a função e criar a coluna fato_id\n",
    "fato_bolsa['fato_id'] = fato_bolsa.apply(gerar_chave_composta, axis=1)\n",
    "\n"
   ]
  },
  {
   "cell_type": "code",
   "execution_count": 7,
   "id": "93e37e40",
   "metadata": {},
   "outputs": [],
   "source": [
    "# Substituindo 'Indigena' por 'Indígena' na coluna 'RACA_BENEFICIARIO_BOLSA'\n",
    "dim_beneficiario['RACA_BENEFICIARIO_BOLSA'] = dim_beneficiario['RACA_BENEFICIARIO_BOLSA'].replace('Ind¡gena', 'Indígena')\n"
   ]
  },
  {
   "cell_type": "code",
   "execution_count": 8,
   "id": "e7b09e65",
   "metadata": {},
   "outputs": [
    {
     "data": {
      "application/vnd.microsoft.datawrangler.viewer.v0+json": {
       "columns": [
        {
         "name": "index",
         "rawType": "int64",
         "type": "integer"
        },
        {
         "name": "CPF_BENEFICIARIO_BOLSA",
         "rawType": "object",
         "type": "string"
        },
        {
         "name": "SEXO_BENEFICIARIO_BOLSA",
         "rawType": "object",
         "type": "string"
        },
        {
         "name": "RACA_BENEFICIARIO_BOLSA",
         "rawType": "object",
         "type": "string"
        },
        {
         "name": "DT_NASCIMENTO_BENEFICIARIO",
         "rawType": "object",
         "type": "string"
        },
        {
         "name": "BENEFICIARIO_DEFICIENTE_FISICO",
         "rawType": "object",
         "type": "string"
        },
        {
         "name": "beneficiario_id",
         "rawType": "int32",
         "type": "integer"
        }
       ],
       "conversionMethod": "pd.DataFrame",
       "ref": "683c811b-8c95-435c-8a92-c9fd7df52d96",
       "rows": [
        [
         "0",
         "***264740**",
         "F",
         "Branca",
         "17/02/1987",
         "N",
         "1"
        ],
        [
         "1",
         "***976940**",
         "F",
         "Parda",
         "14/06/1986",
         "N",
         "2"
        ],
        [
         "2",
         "***045340**",
         "F",
         "Parda",
         "06/03/1984",
         "N",
         "3"
        ],
        [
         "3",
         "***988420**",
         "M",
         "Branca",
         "19/10/1987",
         "N",
         "4"
        ],
        [
         "4",
         "***378080**",
         "M",
         "Amarela",
         "20/07/1987",
         "N",
         "5"
        ],
        [
         "5",
         "***209879**",
         "M",
         "Parda",
         "13/02/1985",
         "N",
         "6"
        ],
        [
         "6",
         "***083259**",
         "F",
         "Branca",
         "20/07/1987",
         "N",
         "7"
        ],
        [
         "7",
         "***529669**",
         "F",
         "Amarela",
         "09/06/1987",
         "N",
         "8"
        ],
        [
         "8",
         "***869569**",
         "F",
         "Parda",
         "27/12/1987",
         "N",
         "9"
        ],
        [
         "9",
         "***866769**",
         "M",
         "Branca",
         "04/04/1987",
         "N",
         "10"
        ],
        [
         "10",
         "***972220**",
         "F",
         "Branca",
         "15/06/1987",
         "N",
         "11"
        ],
        [
         "11",
         "***810160**",
         "F",
         "Branca",
         "26/02/1988",
         "N",
         "12"
        ],
        [
         "12",
         "***188290**",
         "M",
         "Não Informada",
         "15/06/1984",
         "N",
         "13"
        ],
        [
         "13",
         "***332450**",
         "M",
         "Não Informada",
         "09/08/1978",
         "N",
         "14"
        ],
        [
         "14",
         "***263550**",
         "M",
         "Não Informada",
         "22/09/1976",
         "N",
         "15"
        ],
        [
         "15",
         "***287980**",
         "M",
         "Não Informada",
         "15/03/1957",
         "N",
         "16"
        ],
        [
         "16",
         "***510500**",
         "F",
         "Branca",
         "05/11/1985",
         "N",
         "17"
        ],
        [
         "17",
         "***719460**",
         "M",
         "Branca",
         "26/01/1983",
         "N",
         "18"
        ],
        [
         "18",
         "***040670**",
         "M",
         "Não Informada",
         "03/01/1979",
         "N",
         "19"
        ],
        [
         "19",
         "***098980**",
         "M",
         "Parda",
         "15/07/1987",
         "N",
         "20"
        ],
        [
         "20",
         "***254860**",
         "M",
         "Branca",
         "24/01/1988",
         "N",
         "21"
        ],
        [
         "21",
         "***568440**",
         "F",
         "Não Informada",
         "08/03/1980",
         "N",
         "22"
        ],
        [
         "22",
         "***690890**",
         "F",
         "Não Informada",
         "25/12/1967",
         "N",
         "23"
        ],
        [
         "23",
         "***526700**",
         "F",
         "Não Informada",
         "15/05/1977",
         "N",
         "24"
        ],
        [
         "24",
         "***504690**",
         "F",
         "Não Informada",
         "22/02/1986",
         "N",
         "25"
        ],
        [
         "25",
         "***824710**",
         "F",
         "Não Informada",
         "01/11/1984",
         "N",
         "26"
        ],
        [
         "26",
         "***011380**",
         "M",
         "Branca",
         "02/12/1987",
         "N",
         "27"
        ],
        [
         "27",
         "***018460**",
         "F",
         "Branca",
         "03/09/1981",
         "N",
         "28"
        ],
        [
         "28",
         "***143179**",
         "F",
         "Não Informada",
         "14/09/1987",
         "N",
         "29"
        ],
        [
         "29",
         "***400629**",
         "F",
         "Não Informada",
         "23/03/1987",
         "N",
         "30"
        ],
        [
         "30",
         "***280679**",
         "F",
         "Preta",
         "11/07/1987",
         "N",
         "31"
        ],
        [
         "31",
         "***601869**",
         "F",
         "Parda",
         "13/12/1987",
         "N",
         "32"
        ],
        [
         "32",
         "***336800**",
         "M",
         "Parda",
         "28/04/1987",
         "N",
         "33"
        ],
        [
         "33",
         "***881820**",
         "F",
         "Não Informada",
         "24/07/1986",
         "N",
         "34"
        ],
        [
         "34",
         "***590720**",
         "F",
         "Não Informada",
         "31/05/1987",
         "N",
         "35"
        ],
        [
         "35",
         "***375880**",
         "F",
         "Não Informada",
         "22/03/1982",
         "S",
         "36"
        ],
        [
         "36",
         "***651640**",
         "F",
         "Branca",
         "14/01/1985",
         "N",
         "37"
        ],
        [
         "37",
         "***344220**",
         "F",
         "Branca",
         "09/05/1987",
         "N",
         "38"
        ],
        [
         "38",
         "***398349**",
         "F",
         "Não Informada",
         "27/08/1979",
         "N",
         "39"
        ],
        [
         "39",
         "***948849**",
         "F",
         "Branca",
         "26/09/1986",
         "N",
         "40"
        ],
        [
         "40",
         "***058729**",
         "F",
         "Branca",
         "28/09/1985",
         "N",
         "41"
        ],
        [
         "41",
         "***741090**",
         "F",
         "Branca",
         "26/09/1987",
         "N",
         "42"
        ],
        [
         "42",
         "***225910**",
         "F",
         "Branca",
         "09/08/1987",
         "N",
         "43"
        ],
        [
         "43",
         "***966660**",
         "F",
         "Branca",
         "17/12/1974",
         "N",
         "44"
        ],
        [
         "44",
         "***586790**",
         "F",
         "Branca",
         "23/06/1987",
         "N",
         "45"
        ],
        [
         "45",
         "***126760**",
         "F",
         "Branca",
         "09/06/1983",
         "N",
         "46"
        ],
        [
         "46",
         "***664430**",
         "M",
         "Não Informada",
         "13/09/1987",
         "N",
         "47"
        ],
        [
         "47",
         "***756940**",
         "F",
         "Parda",
         "16/08/1985",
         "N",
         "48"
        ],
        [
         "48",
         "***103640**",
         "F",
         "Parda",
         "29/08/1987",
         "N",
         "49"
        ],
        [
         "49",
         "***501290**",
         "F",
         "Branca",
         "13/10/1985",
         "N",
         "50"
        ]
       ],
       "shape": {
        "columns": 6,
        "rows": 2533679
       }
      },
      "text/html": [
       "<div>\n",
       "<style scoped>\n",
       "    .dataframe tbody tr th:only-of-type {\n",
       "        vertical-align: middle;\n",
       "    }\n",
       "\n",
       "    .dataframe tbody tr th {\n",
       "        vertical-align: top;\n",
       "    }\n",
       "\n",
       "    .dataframe thead th {\n",
       "        text-align: right;\n",
       "    }\n",
       "</style>\n",
       "<table border=\"1\" class=\"dataframe\">\n",
       "  <thead>\n",
       "    <tr style=\"text-align: right;\">\n",
       "      <th></th>\n",
       "      <th>CPF_BENEFICIARIO_BOLSA</th>\n",
       "      <th>SEXO_BENEFICIARIO_BOLSA</th>\n",
       "      <th>RACA_BENEFICIARIO_BOLSA</th>\n",
       "      <th>DT_NASCIMENTO_BENEFICIARIO</th>\n",
       "      <th>BENEFICIARIO_DEFICIENTE_FISICO</th>\n",
       "      <th>beneficiario_id</th>\n",
       "    </tr>\n",
       "  </thead>\n",
       "  <tbody>\n",
       "    <tr>\n",
       "      <th>0</th>\n",
       "      <td>***264740**</td>\n",
       "      <td>F</td>\n",
       "      <td>Branca</td>\n",
       "      <td>17/02/1987</td>\n",
       "      <td>N</td>\n",
       "      <td>1</td>\n",
       "    </tr>\n",
       "    <tr>\n",
       "      <th>1</th>\n",
       "      <td>***976940**</td>\n",
       "      <td>F</td>\n",
       "      <td>Parda</td>\n",
       "      <td>14/06/1986</td>\n",
       "      <td>N</td>\n",
       "      <td>2</td>\n",
       "    </tr>\n",
       "    <tr>\n",
       "      <th>2</th>\n",
       "      <td>***045340**</td>\n",
       "      <td>F</td>\n",
       "      <td>Parda</td>\n",
       "      <td>06/03/1984</td>\n",
       "      <td>N</td>\n",
       "      <td>3</td>\n",
       "    </tr>\n",
       "    <tr>\n",
       "      <th>3</th>\n",
       "      <td>***988420**</td>\n",
       "      <td>M</td>\n",
       "      <td>Branca</td>\n",
       "      <td>19/10/1987</td>\n",
       "      <td>N</td>\n",
       "      <td>4</td>\n",
       "    </tr>\n",
       "    <tr>\n",
       "      <th>4</th>\n",
       "      <td>***378080**</td>\n",
       "      <td>M</td>\n",
       "      <td>Amarela</td>\n",
       "      <td>20/07/1987</td>\n",
       "      <td>N</td>\n",
       "      <td>5</td>\n",
       "    </tr>\n",
       "    <tr>\n",
       "      <th>...</th>\n",
       "      <td>...</td>\n",
       "      <td>...</td>\n",
       "      <td>...</td>\n",
       "      <td>...</td>\n",
       "      <td>...</td>\n",
       "      <td>...</td>\n",
       "    </tr>\n",
       "    <tr>\n",
       "      <th>2873119</th>\n",
       "      <td>062.XXX.XXX-70</td>\n",
       "      <td>F</td>\n",
       "      <td>Parda</td>\n",
       "      <td>30/11/1996</td>\n",
       "      <td>N</td>\n",
       "      <td>2533675</td>\n",
       "    </tr>\n",
       "    <tr>\n",
       "      <th>2873120</th>\n",
       "      <td>177.XXX.XXX-80</td>\n",
       "      <td>F</td>\n",
       "      <td>Parda</td>\n",
       "      <td>25/03/2002</td>\n",
       "      <td>N</td>\n",
       "      <td>2533676</td>\n",
       "    </tr>\n",
       "    <tr>\n",
       "      <th>2873121</th>\n",
       "      <td>042.XXX.XXX-54</td>\n",
       "      <td>M</td>\n",
       "      <td>Branca</td>\n",
       "      <td>19/04/1997</td>\n",
       "      <td>N</td>\n",
       "      <td>2533677</td>\n",
       "    </tr>\n",
       "    <tr>\n",
       "      <th>2873122</th>\n",
       "      <td>601.XXX.XXX-53</td>\n",
       "      <td>F</td>\n",
       "      <td>Parda</td>\n",
       "      <td>17/09/1975</td>\n",
       "      <td>N</td>\n",
       "      <td>2533678</td>\n",
       "    </tr>\n",
       "    <tr>\n",
       "      <th>2873123</th>\n",
       "      <td>032.XXX.XXX-63</td>\n",
       "      <td>M</td>\n",
       "      <td>Branca</td>\n",
       "      <td>25/06/1996</td>\n",
       "      <td>N</td>\n",
       "      <td>2533679</td>\n",
       "    </tr>\n",
       "  </tbody>\n",
       "</table>\n",
       "<p>2533679 rows × 6 columns</p>\n",
       "</div>"
      ],
      "text/plain": [
       "        CPF_BENEFICIARIO_BOLSA SEXO_BENEFICIARIO_BOLSA  \\\n",
       "0                  ***264740**                       F   \n",
       "1                  ***976940**                       F   \n",
       "2                  ***045340**                       F   \n",
       "3                  ***988420**                       M   \n",
       "4                  ***378080**                       M   \n",
       "...                        ...                     ...   \n",
       "2873119         062.XXX.XXX-70                       F   \n",
       "2873120         177.XXX.XXX-80                       F   \n",
       "2873121         042.XXX.XXX-54                       M   \n",
       "2873122         601.XXX.XXX-53                       F   \n",
       "2873123         032.XXX.XXX-63                       M   \n",
       "\n",
       "        RACA_BENEFICIARIO_BOLSA DT_NASCIMENTO_BENEFICIARIO  \\\n",
       "0                        Branca                 17/02/1987   \n",
       "1                         Parda                 14/06/1986   \n",
       "2                         Parda                 06/03/1984   \n",
       "3                        Branca                 19/10/1987   \n",
       "4                       Amarela                 20/07/1987   \n",
       "...                         ...                        ...   \n",
       "2873119                   Parda                 30/11/1996   \n",
       "2873120                   Parda                 25/03/2002   \n",
       "2873121                  Branca                 19/04/1997   \n",
       "2873122                   Parda                 17/09/1975   \n",
       "2873123                  Branca                 25/06/1996   \n",
       "\n",
       "        BENEFICIARIO_DEFICIENTE_FISICO  beneficiario_id  \n",
       "0                                    N                1  \n",
       "1                                    N                2  \n",
       "2                                    N                3  \n",
       "3                                    N                4  \n",
       "4                                    N                5  \n",
       "...                                ...              ...  \n",
       "2873119                              N          2533675  \n",
       "2873120                              N          2533676  \n",
       "2873121                              N          2533677  \n",
       "2873122                              N          2533678  \n",
       "2873123                              N          2533679  \n",
       "\n",
       "[2533679 rows x 6 columns]"
      ]
     },
     "execution_count": 8,
     "metadata": {},
     "output_type": "execute_result"
    }
   ],
   "source": [
    "dim_beneficiario"
   ]
  }
 ],
 "metadata": {
  "kernelspec": {
   "display_name": "myenv",
   "language": "python",
   "name": "python3"
  },
  "language_info": {
   "codemirror_mode": {
    "name": "ipython",
    "version": 3
   },
   "file_extension": ".py",
   "mimetype": "text/x-python",
   "name": "python",
   "nbconvert_exporter": "python",
   "pygments_lexer": "ipython3",
   "version": "3.8.0"
  }
 },
 "nbformat": 4,
 "nbformat_minor": 5
}
